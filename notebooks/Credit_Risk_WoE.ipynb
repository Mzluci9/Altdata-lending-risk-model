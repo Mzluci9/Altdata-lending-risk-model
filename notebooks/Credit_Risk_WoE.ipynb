{
 "cells": [
  {
   "cell_type": "markdown",
   "id": "813a43f7",
   "metadata": {},
   "source": [
    "#  Credit Risk WoE Binning\n",
    "\n",
    "### This notebook performs Weight of Evidence (WoE) binning for RFM features ,goal is to preprocess features for a credit risk model."
   ]
  },
  {
   "cell_type": "code",
   "execution_count": 1,
   "id": "fd75e234",
   "metadata": {},
   "outputs": [],
   "source": [
    "import pandas as pd\n",
    "import numpy as np\n",
    "import os\n",
    "import sys\n",
    "sys.path.append(os.path.abspath(os.path.join(os.getcwd(), '../src')))\n",
    "from credit_risk_woe import calculate_woe, visualize_woe, setup_logging\n",
    "\n"
   ]
  },
  {
   "cell_type": "code",
   "execution_count": null,
   "id": "5029cd60",
   "metadata": {},
   "outputs": [],
   "source": []
  },
  {
   "cell_type": "code",
   "execution_count": null,
   "id": "d2598f61",
   "metadata": {},
   "outputs": [],
   "source": []
  }
 ],
 "metadata": {
  "kernelspec": {
   "display_name": ".venv",
   "language": "python",
   "name": "python3"
  },
  "language_info": {
   "codemirror_mode": {
    "name": "ipython",
    "version": 3
   },
   "file_extension": ".py",
   "mimetype": "text/x-python",
   "name": "python",
   "nbconvert_exporter": "python",
   "pygments_lexer": "ipython3",
   "version": "3.13.4"
  }
 },
 "nbformat": 4,
 "nbformat_minor": 5
}
