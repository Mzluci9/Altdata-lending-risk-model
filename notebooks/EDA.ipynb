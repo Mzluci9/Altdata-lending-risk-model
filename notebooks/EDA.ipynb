{
 "cells": [
  {
   "cell_type": "markdown",
   "id": "90b64669",
   "metadata": {},
   "source": [
    "# Exploratory Data Analysis (EDA)"
   ]
  },
  {
   "cell_type": "markdown",
   "id": "b4ce6bb2",
   "metadata": {},
   "source": [
    "### import librerys "
   ]
  },
  {
   "cell_type": "code",
   "execution_count": 22,
   "id": "276cbfd6",
   "metadata": {},
   "outputs": [],
   "source": [
    "import pandas as pd\n",
    "import seaborn as sns\n",
    "import matplotlib.pyplot as plt"
   ]
  },
  {
   "cell_type": "markdown",
   "id": "6bf53bd1",
   "metadata": {},
   "source": [
    "# Load Data"
   ]
  },
  {
   "cell_type": "code",
   "execution_count": 18,
   "id": "b951fab7",
   "metadata": {},
   "outputs": [
    {
     "name": "stderr",
     "output_type": "stream",
     "text": [
      "<>:1: SyntaxWarning: invalid escape sequence '\\d'\n",
      "<>:1: SyntaxWarning: invalid escape sequence '\\d'\n",
      "C:\\Users\\HP\\AppData\\Local\\Temp\\ipykernel_4648\\1881409978.py:1: SyntaxWarning: invalid escape sequence '\\d'\n",
      "  df = pd.read_csv(\"C:/Users/HP/10 Acadamy PRojects/New folder (5)/Altdata-lending-risk-model/data\\data.csv\")\n"
     ]
    },
    {
     "data": {
      "application/vnd.microsoft.datawrangler.viewer.v0+json": {
       "columns": [
        {
         "name": "index",
         "rawType": "int64",
         "type": "integer"
        },
        {
         "name": "TransactionId",
         "rawType": "object",
         "type": "string"
        },
        {
         "name": "BatchId",
         "rawType": "object",
         "type": "string"
        },
        {
         "name": "AccountId",
         "rawType": "object",
         "type": "string"
        },
        {
         "name": "SubscriptionId",
         "rawType": "object",
         "type": "string"
        },
        {
         "name": "CustomerId",
         "rawType": "object",
         "type": "string"
        },
        {
         "name": "CurrencyCode",
         "rawType": "object",
         "type": "string"
        },
        {
         "name": "CountryCode",
         "rawType": "int64",
         "type": "integer"
        },
        {
         "name": "ProviderId",
         "rawType": "object",
         "type": "string"
        },
        {
         "name": "ProductId",
         "rawType": "object",
         "type": "string"
        },
        {
         "name": "ProductCategory",
         "rawType": "object",
         "type": "string"
        },
        {
         "name": "ChannelId",
         "rawType": "object",
         "type": "string"
        },
        {
         "name": "Amount",
         "rawType": "float64",
         "type": "float"
        },
        {
         "name": "Value",
         "rawType": "int64",
         "type": "integer"
        },
        {
         "name": "TransactionStartTime",
         "rawType": "object",
         "type": "string"
        },
        {
         "name": "PricingStrategy",
         "rawType": "int64",
         "type": "integer"
        },
        {
         "name": "FraudResult",
         "rawType": "int64",
         "type": "integer"
        }
       ],
       "ref": "33ddf422-503f-40dd-a495-a64c0dcf34ce",
       "rows": [
        [
         "0",
         "TransactionId_76871",
         "BatchId_36123",
         "AccountId_3957",
         "SubscriptionId_887",
         "CustomerId_4406",
         "UGX",
         "256",
         "ProviderId_6",
         "ProductId_10",
         "airtime",
         "ChannelId_3",
         "1000.0",
         "1000",
         "2018-11-15T02:18:49Z",
         "2",
         "0"
        ],
        [
         "1",
         "TransactionId_73770",
         "BatchId_15642",
         "AccountId_4841",
         "SubscriptionId_3829",
         "CustomerId_4406",
         "UGX",
         "256",
         "ProviderId_4",
         "ProductId_6",
         "financial_services",
         "ChannelId_2",
         "-20.0",
         "20",
         "2018-11-15T02:19:08Z",
         "2",
         "0"
        ],
        [
         "2",
         "TransactionId_26203",
         "BatchId_53941",
         "AccountId_4229",
         "SubscriptionId_222",
         "CustomerId_4683",
         "UGX",
         "256",
         "ProviderId_6",
         "ProductId_1",
         "airtime",
         "ChannelId_3",
         "500.0",
         "500",
         "2018-11-15T02:44:21Z",
         "2",
         "0"
        ],
        [
         "3",
         "TransactionId_380",
         "BatchId_102363",
         "AccountId_648",
         "SubscriptionId_2185",
         "CustomerId_988",
         "UGX",
         "256",
         "ProviderId_1",
         "ProductId_21",
         "utility_bill",
         "ChannelId_3",
         "20000.0",
         "21800",
         "2018-11-15T03:32:55Z",
         "2",
         "0"
        ],
        [
         "4",
         "TransactionId_28195",
         "BatchId_38780",
         "AccountId_4841",
         "SubscriptionId_3829",
         "CustomerId_988",
         "UGX",
         "256",
         "ProviderId_4",
         "ProductId_6",
         "financial_services",
         "ChannelId_2",
         "-644.0",
         "644",
         "2018-11-15T03:34:21Z",
         "2",
         "0"
        ]
       ],
       "shape": {
        "columns": 16,
        "rows": 5
       }
      },
      "text/html": [
       "<div>\n",
       "<style scoped>\n",
       "    .dataframe tbody tr th:only-of-type {\n",
       "        vertical-align: middle;\n",
       "    }\n",
       "\n",
       "    .dataframe tbody tr th {\n",
       "        vertical-align: top;\n",
       "    }\n",
       "\n",
       "    .dataframe thead th {\n",
       "        text-align: right;\n",
       "    }\n",
       "</style>\n",
       "<table border=\"1\" class=\"dataframe\">\n",
       "  <thead>\n",
       "    <tr style=\"text-align: right;\">\n",
       "      <th></th>\n",
       "      <th>TransactionId</th>\n",
       "      <th>BatchId</th>\n",
       "      <th>AccountId</th>\n",
       "      <th>SubscriptionId</th>\n",
       "      <th>CustomerId</th>\n",
       "      <th>CurrencyCode</th>\n",
       "      <th>CountryCode</th>\n",
       "      <th>ProviderId</th>\n",
       "      <th>ProductId</th>\n",
       "      <th>ProductCategory</th>\n",
       "      <th>ChannelId</th>\n",
       "      <th>Amount</th>\n",
       "      <th>Value</th>\n",
       "      <th>TransactionStartTime</th>\n",
       "      <th>PricingStrategy</th>\n",
       "      <th>FraudResult</th>\n",
       "    </tr>\n",
       "  </thead>\n",
       "  <tbody>\n",
       "    <tr>\n",
       "      <th>0</th>\n",
       "      <td>TransactionId_76871</td>\n",
       "      <td>BatchId_36123</td>\n",
       "      <td>AccountId_3957</td>\n",
       "      <td>SubscriptionId_887</td>\n",
       "      <td>CustomerId_4406</td>\n",
       "      <td>UGX</td>\n",
       "      <td>256</td>\n",
       "      <td>ProviderId_6</td>\n",
       "      <td>ProductId_10</td>\n",
       "      <td>airtime</td>\n",
       "      <td>ChannelId_3</td>\n",
       "      <td>1000.0</td>\n",
       "      <td>1000</td>\n",
       "      <td>2018-11-15T02:18:49Z</td>\n",
       "      <td>2</td>\n",
       "      <td>0</td>\n",
       "    </tr>\n",
       "    <tr>\n",
       "      <th>1</th>\n",
       "      <td>TransactionId_73770</td>\n",
       "      <td>BatchId_15642</td>\n",
       "      <td>AccountId_4841</td>\n",
       "      <td>SubscriptionId_3829</td>\n",
       "      <td>CustomerId_4406</td>\n",
       "      <td>UGX</td>\n",
       "      <td>256</td>\n",
       "      <td>ProviderId_4</td>\n",
       "      <td>ProductId_6</td>\n",
       "      <td>financial_services</td>\n",
       "      <td>ChannelId_2</td>\n",
       "      <td>-20.0</td>\n",
       "      <td>20</td>\n",
       "      <td>2018-11-15T02:19:08Z</td>\n",
       "      <td>2</td>\n",
       "      <td>0</td>\n",
       "    </tr>\n",
       "    <tr>\n",
       "      <th>2</th>\n",
       "      <td>TransactionId_26203</td>\n",
       "      <td>BatchId_53941</td>\n",
       "      <td>AccountId_4229</td>\n",
       "      <td>SubscriptionId_222</td>\n",
       "      <td>CustomerId_4683</td>\n",
       "      <td>UGX</td>\n",
       "      <td>256</td>\n",
       "      <td>ProviderId_6</td>\n",
       "      <td>ProductId_1</td>\n",
       "      <td>airtime</td>\n",
       "      <td>ChannelId_3</td>\n",
       "      <td>500.0</td>\n",
       "      <td>500</td>\n",
       "      <td>2018-11-15T02:44:21Z</td>\n",
       "      <td>2</td>\n",
       "      <td>0</td>\n",
       "    </tr>\n",
       "    <tr>\n",
       "      <th>3</th>\n",
       "      <td>TransactionId_380</td>\n",
       "      <td>BatchId_102363</td>\n",
       "      <td>AccountId_648</td>\n",
       "      <td>SubscriptionId_2185</td>\n",
       "      <td>CustomerId_988</td>\n",
       "      <td>UGX</td>\n",
       "      <td>256</td>\n",
       "      <td>ProviderId_1</td>\n",
       "      <td>ProductId_21</td>\n",
       "      <td>utility_bill</td>\n",
       "      <td>ChannelId_3</td>\n",
       "      <td>20000.0</td>\n",
       "      <td>21800</td>\n",
       "      <td>2018-11-15T03:32:55Z</td>\n",
       "      <td>2</td>\n",
       "      <td>0</td>\n",
       "    </tr>\n",
       "    <tr>\n",
       "      <th>4</th>\n",
       "      <td>TransactionId_28195</td>\n",
       "      <td>BatchId_38780</td>\n",
       "      <td>AccountId_4841</td>\n",
       "      <td>SubscriptionId_3829</td>\n",
       "      <td>CustomerId_988</td>\n",
       "      <td>UGX</td>\n",
       "      <td>256</td>\n",
       "      <td>ProviderId_4</td>\n",
       "      <td>ProductId_6</td>\n",
       "      <td>financial_services</td>\n",
       "      <td>ChannelId_2</td>\n",
       "      <td>-644.0</td>\n",
       "      <td>644</td>\n",
       "      <td>2018-11-15T03:34:21Z</td>\n",
       "      <td>2</td>\n",
       "      <td>0</td>\n",
       "    </tr>\n",
       "  </tbody>\n",
       "</table>\n",
       "</div>"
      ],
      "text/plain": [
       "         TransactionId         BatchId       AccountId       SubscriptionId  \\\n",
       "0  TransactionId_76871   BatchId_36123  AccountId_3957   SubscriptionId_887   \n",
       "1  TransactionId_73770   BatchId_15642  AccountId_4841  SubscriptionId_3829   \n",
       "2  TransactionId_26203   BatchId_53941  AccountId_4229   SubscriptionId_222   \n",
       "3    TransactionId_380  BatchId_102363   AccountId_648  SubscriptionId_2185   \n",
       "4  TransactionId_28195   BatchId_38780  AccountId_4841  SubscriptionId_3829   \n",
       "\n",
       "        CustomerId CurrencyCode  CountryCode    ProviderId     ProductId  \\\n",
       "0  CustomerId_4406          UGX          256  ProviderId_6  ProductId_10   \n",
       "1  CustomerId_4406          UGX          256  ProviderId_4   ProductId_6   \n",
       "2  CustomerId_4683          UGX          256  ProviderId_6   ProductId_1   \n",
       "3   CustomerId_988          UGX          256  ProviderId_1  ProductId_21   \n",
       "4   CustomerId_988          UGX          256  ProviderId_4   ProductId_6   \n",
       "\n",
       "      ProductCategory    ChannelId   Amount  Value  TransactionStartTime  \\\n",
       "0             airtime  ChannelId_3   1000.0   1000  2018-11-15T02:18:49Z   \n",
       "1  financial_services  ChannelId_2    -20.0     20  2018-11-15T02:19:08Z   \n",
       "2             airtime  ChannelId_3    500.0    500  2018-11-15T02:44:21Z   \n",
       "3        utility_bill  ChannelId_3  20000.0  21800  2018-11-15T03:32:55Z   \n",
       "4  financial_services  ChannelId_2   -644.0    644  2018-11-15T03:34:21Z   \n",
       "\n",
       "   PricingStrategy  FraudResult  \n",
       "0                2            0  \n",
       "1                2            0  \n",
       "2                2            0  \n",
       "3                2            0  \n",
       "4                2            0  "
      ]
     },
     "execution_count": 18,
     "metadata": {},
     "output_type": "execute_result"
    }
   ],
   "source": [
    "df = pd.read_csv(\"C:/Users/HP/10 Acadamy PRojects/New folder (5)/Altdata-lending-risk-model/data\\data.csv\")\n",
    "df.head()"
   ]
  },
  {
   "cell_type": "markdown",
   "id": "5d21ad02",
   "metadata": {},
   "source": [
    "# Dataset Overview & Summary Stats"
   ]
  },
  {
   "cell_type": "code",
   "execution_count": 16,
   "id": "f44b1232",
   "metadata": {},
   "outputs": [
    {
     "data": {
      "application/vnd.microsoft.datawrangler.viewer.v0+json": {
       "columns": [
        {
         "name": "index",
         "rawType": "object",
         "type": "string"
        },
        {
         "name": "CountryCode",
         "rawType": "float64",
         "type": "float"
        },
        {
         "name": "Amount",
         "rawType": "float64",
         "type": "float"
        },
        {
         "name": "Value",
         "rawType": "float64",
         "type": "float"
        },
        {
         "name": "PricingStrategy",
         "rawType": "float64",
         "type": "float"
        },
        {
         "name": "FraudResult",
         "rawType": "float64",
         "type": "float"
        }
       ],
       "ref": "e305e153-d6a7-4982-a4e0-e2cf4908bbf5",
       "rows": [
        [
         "count",
         "95662.0",
         "95662.0",
         "95662.0",
         "95662.0",
         "95662.0"
        ],
        [
         "mean",
         "256.0",
         "6717.846433275491",
         "9900.583941376932",
         "2.25597415901821",
         "0.00201752001839811"
        ],
        [
         "std",
         "0.0",
         "123306.79716433848",
         "123122.08777619714",
         "0.732924109485572",
         "0.04487171357472356"
        ],
        [
         "min",
         "256.0",
         "-1000000.0",
         "2.0",
         "0.0",
         "0.0"
        ],
        [
         "25%",
         "256.0",
         "-50.0",
         "275.0",
         "2.0",
         "0.0"
        ],
        [
         "50%",
         "256.0",
         "1000.0",
         "1000.0",
         "2.0",
         "0.0"
        ],
        [
         "75%",
         "256.0",
         "2800.0",
         "5000.0",
         "2.0",
         "0.0"
        ],
        [
         "max",
         "256.0",
         "9880000.0",
         "9880000.0",
         "4.0",
         "1.0"
        ]
       ],
       "shape": {
        "columns": 5,
        "rows": 8
       }
      },
      "text/html": [
       "<div>\n",
       "<style scoped>\n",
       "    .dataframe tbody tr th:only-of-type {\n",
       "        vertical-align: middle;\n",
       "    }\n",
       "\n",
       "    .dataframe tbody tr th {\n",
       "        vertical-align: top;\n",
       "    }\n",
       "\n",
       "    .dataframe thead th {\n",
       "        text-align: right;\n",
       "    }\n",
       "</style>\n",
       "<table border=\"1\" class=\"dataframe\">\n",
       "  <thead>\n",
       "    <tr style=\"text-align: right;\">\n",
       "      <th></th>\n",
       "      <th>CountryCode</th>\n",
       "      <th>Amount</th>\n",
       "      <th>Value</th>\n",
       "      <th>PricingStrategy</th>\n",
       "      <th>FraudResult</th>\n",
       "    </tr>\n",
       "  </thead>\n",
       "  <tbody>\n",
       "    <tr>\n",
       "      <th>count</th>\n",
       "      <td>95662.0</td>\n",
       "      <td>9.566200e+04</td>\n",
       "      <td>9.566200e+04</td>\n",
       "      <td>95662.000000</td>\n",
       "      <td>95662.000000</td>\n",
       "    </tr>\n",
       "    <tr>\n",
       "      <th>mean</th>\n",
       "      <td>256.0</td>\n",
       "      <td>6.717846e+03</td>\n",
       "      <td>9.900584e+03</td>\n",
       "      <td>2.255974</td>\n",
       "      <td>0.002018</td>\n",
       "    </tr>\n",
       "    <tr>\n",
       "      <th>std</th>\n",
       "      <td>0.0</td>\n",
       "      <td>1.233068e+05</td>\n",
       "      <td>1.231221e+05</td>\n",
       "      <td>0.732924</td>\n",
       "      <td>0.044872</td>\n",
       "    </tr>\n",
       "    <tr>\n",
       "      <th>min</th>\n",
       "      <td>256.0</td>\n",
       "      <td>-1.000000e+06</td>\n",
       "      <td>2.000000e+00</td>\n",
       "      <td>0.000000</td>\n",
       "      <td>0.000000</td>\n",
       "    </tr>\n",
       "    <tr>\n",
       "      <th>25%</th>\n",
       "      <td>256.0</td>\n",
       "      <td>-5.000000e+01</td>\n",
       "      <td>2.750000e+02</td>\n",
       "      <td>2.000000</td>\n",
       "      <td>0.000000</td>\n",
       "    </tr>\n",
       "    <tr>\n",
       "      <th>50%</th>\n",
       "      <td>256.0</td>\n",
       "      <td>1.000000e+03</td>\n",
       "      <td>1.000000e+03</td>\n",
       "      <td>2.000000</td>\n",
       "      <td>0.000000</td>\n",
       "    </tr>\n",
       "    <tr>\n",
       "      <th>75%</th>\n",
       "      <td>256.0</td>\n",
       "      <td>2.800000e+03</td>\n",
       "      <td>5.000000e+03</td>\n",
       "      <td>2.000000</td>\n",
       "      <td>0.000000</td>\n",
       "    </tr>\n",
       "    <tr>\n",
       "      <th>max</th>\n",
       "      <td>256.0</td>\n",
       "      <td>9.880000e+06</td>\n",
       "      <td>9.880000e+06</td>\n",
       "      <td>4.000000</td>\n",
       "      <td>1.000000</td>\n",
       "    </tr>\n",
       "  </tbody>\n",
       "</table>\n",
       "</div>"
      ],
      "text/plain": [
       "       CountryCode        Amount         Value  PricingStrategy   FraudResult\n",
       "count      95662.0  9.566200e+04  9.566200e+04     95662.000000  95662.000000\n",
       "mean         256.0  6.717846e+03  9.900584e+03         2.255974      0.002018\n",
       "std            0.0  1.233068e+05  1.231221e+05         0.732924      0.044872\n",
       "min          256.0 -1.000000e+06  2.000000e+00         0.000000      0.000000\n",
       "25%          256.0 -5.000000e+01  2.750000e+02         2.000000      0.000000\n",
       "50%          256.0  1.000000e+03  1.000000e+03         2.000000      0.000000\n",
       "75%          256.0  2.800000e+03  5.000000e+03         2.000000      0.000000\n",
       "max          256.0  9.880000e+06  9.880000e+06         4.000000      1.000000"
      ]
     },
     "execution_count": 16,
     "metadata": {},
     "output_type": "execute_result"
    }
   ],
   "source": [
    "df.describe()\n"
   ]
  },
  {
   "cell_type": "code",
   "execution_count": 19,
   "id": "42e98dd1",
   "metadata": {},
   "outputs": [
    {
     "data": {
      "text/plain": [
       "(95662, 16)"
      ]
     },
     "execution_count": 19,
     "metadata": {},
     "output_type": "execute_result"
    }
   ],
   "source": [
    "df.shape"
   ]
  },
  {
   "cell_type": "code",
   "execution_count": null,
   "id": "3daae812",
   "metadata": {},
   "outputs": [
    {
     "data": {
      "application/vnd.microsoft.datawrangler.viewer.v0+json": {
       "columns": [
        {
         "name": "index",
         "rawType": "object",
         "type": "string"
        },
        {
         "name": "0",
         "rawType": "float64",
         "type": "float"
        }
       ],
       "ref": "7b42e8b4-5e17-4a33-b796-9a0672737627",
       "rows": [
        [
         "TransactionId",
         "0.0"
        ],
        [
         "BatchId",
         "0.0"
        ],
        [
         "AccountId",
         "0.0"
        ],
        [
         "SubscriptionId",
         "0.0"
        ],
        [
         "CustomerId",
         "0.0"
        ],
        [
         "CurrencyCode",
         "0.0"
        ],
        [
         "CountryCode",
         "0.0"
        ],
        [
         "ProviderId",
         "0.0"
        ],
        [
         "ProductId",
         "0.0"
        ],
        [
         "ProductCategory",
         "0.0"
        ],
        [
         "ChannelId",
         "0.0"
        ],
        [
         "Amount",
         "0.0"
        ],
        [
         "Value",
         "0.0"
        ],
        [
         "TransactionStartTime",
         "0.0"
        ],
        [
         "PricingStrategy",
         "0.0"
        ],
        [
         "FraudResult",
         "0.0"
        ]
       ],
       "shape": {
        "columns": 1,
        "rows": 16
       }
      },
      "text/plain": [
       "TransactionId           0.0\n",
       "BatchId                 0.0\n",
       "AccountId               0.0\n",
       "SubscriptionId          0.0\n",
       "CustomerId              0.0\n",
       "CurrencyCode            0.0\n",
       "CountryCode             0.0\n",
       "ProviderId              0.0\n",
       "ProductId               0.0\n",
       "ProductCategory         0.0\n",
       "ChannelId               0.0\n",
       "Amount                  0.0\n",
       "Value                   0.0\n",
       "TransactionStartTime    0.0\n",
       "PricingStrategy         0.0\n",
       "FraudResult             0.0\n",
       "dtype: float64"
      ]
     },
     "execution_count": 39,
     "metadata": {},
     "output_type": "execute_result"
    }
   ],
   "source": [
    "# Identifying Missing Values\n",
    "df.isnull().sum() / len(df)"
   ]
  },
  {
   "cell_type": "markdown",
   "id": "510bd845",
   "metadata": {},
   "source": [
    "## Numerical Features Distribution"
   ]
  },
  {
   "cell_type": "code",
   "execution_count": 33,
   "id": "9998ce5b",
   "metadata": {},
   "outputs": [
    {
     "data": {
      "image/png": "[encoded data removed]",
      "text/plain": [
       "<Figure size 1000x600 with 1 Axes>"
      ]
     },
     "metadata": {},
     "output_type": "display_data"
    }
   ],
   "source": [
    "plt.figure(figsize=(10, 6))\n",
    "sns.histplot(df['Amount'], kde=True, stat='density', alpha=0.8)\n",
    "plt.title('Distribution of Transaction Amount')\n",
    "plt.show()\n"
   ]
  },
  {
   "cell_type": "code",
   "execution_count": 34,
   "id": "fca67a4c",
   "metadata": {},
   "outputs": [
    {
     "data": {
      "image/png": "[encoded data removed]",
      "text/plain": [
       "<Figure size 1200x500 with 2 Axes>"
      ]
     },
     "metadata": {},
     "output_type": "display_data"
    }
   ],
   "source": [
    "plt.figure(figsize=(12, 5))\n",
    "plt.subplot(1, 2, 1)\n",
    "sns.histplot(df[df['Amount'] > 0]['Amount'], kde=True)\n",
    "plt.title('Positive Transaction Amounts')\n",
    "plt.subplot(1, 2, 2)\n",
    "sns.histplot(df[df['Amount'] < 0]['Amount'].abs(), kde=True)\n",
    "plt.title('Absolute Negative Transaction Amounts')\n",
    "plt.tight_layout()\n",
    "plt.show()"
   ]
  },
  {
   "cell_type": "markdown",
   "id": "ddb020b9",
   "metadata": {},
   "source": [
    "## Categorical Feature Distribution"
   ]
  },
  {
   "cell_type": "code",
   "execution_count": 35,
   "id": "9e317e34",
   "metadata": {},
   "outputs": [
    {
     "data": {
      "image/png": "[encoded data removed]",
      "text/plain": [
       "<Figure size 1000x600 with 1 Axes>"
      ]
     },
     "metadata": {},
     "output_type": "display_data"
    }
   ],
   "source": [
    "plt.figure(figsize=(10, 6))\n",
    "sns.countplot(data=df, x='ProductCategory', order=df['ProductCategory'].value_counts().index)\n",
    "plt.xticks(rotation=45)\n",
    "plt.title('Distribution of Product Categories')\n",
    "plt.show()"
   ]
  },
  {
   "cell_type": "markdown",
   "id": "4142dfe8",
   "metadata": {},
   "source": [
    "## Correlation Analysis"
   ]
  },
  {
   "cell_type": "code",
   "execution_count": 36,
   "id": "d55630a1",
   "metadata": {},
   "outputs": [
    {
     "data": {
      "image/png": "[encoded data removed]",
      "text/plain": [
       "<Figure size 800x600 with 2 Axes>"
      ]
     },
     "metadata": {},
     "output_type": "display_data"
    }
   ],
   "source": [
    "plt.figure(figsize=(8, 6))\n",
    "sns.heatmap(df[['Amount', 'Value']].corr(), annot=True, cmap='coolwarm')\n",
    "plt.title('Correlation Heatmap')\n",
    "plt.show()"
   ]
  },
  {
   "cell_type": "markdown",
   "id": "78078fe8",
   "metadata": {},
   "source": [
    "## Outlier Detection"
   ]
  },
  {
   "cell_type": "code",
   "execution_count": 40,
   "id": "bed82de6",
   "metadata": {},
   "outputs": [
    {
     "data": {
      "image/png": "[encoded data removed]",
      "text/plain": [
       "<Figure size 800x600 with 1 Axes>"
      ]
     },
     "metadata": {},
     "output_type": "display_data"
    }
   ],
   "source": [
    "plt.figure(figsize=(8, 6))\n",
    "sns.boxplot(data=df, y='Amount')\n",
    "plt.title('Box Plot of Transaction Amount')\n",
    "plt.show()"
   ]
  },
  {
   "cell_type": "code",
   "execution_count": 47,
   "id": "6faa3bd5",
   "metadata": {},
   "outputs": [],
   "source": [
    "import plotly.express as px\n",
    "import plotly.io as pio\n",
    "\n",
    "pio.renderers.default = 'browser'  # Set to use web browser\n",
    "\n",
    "fig = px.histogram(df, x='Amount', title='Interactive Distribution of Transaction Amount')\n",
    "fig.show()\n"
   ]
  },
  {
   "cell_type": "code",
   "execution_count": null,
   "id": "b3ba5ea3",
   "metadata": {},
   "outputs": [],
   "source": []
  },
  {
   "cell_type": "code",
   "execution_count": null,
   "id": "5e857eb3",
   "metadata": {},
   "outputs": [],
   "source": []
  },
  {
   "cell_type": "code",
   "execution_count": null,
   "id": "638d3c59",
   "metadata": {},
   "outputs": [],
   "source": []
  }
 ],
 "metadata": {
  "kernelspec": {
   "display_name": ".venv",
   "language": "python",
   "name": "python3"
  },
  "language_info": {
   "codemirror_mode": {
    "name": "ipython",
    "version": 3
   },
   "file_extension": ".py",
   "mimetype": "text/x-python",
   "name": "python",
   "nbconvert_exporter": "python",
   "pygments_lexer": "ipython3",
   "version": "3.13.4"
  }
 },
 "nbformat": 4,
 "nbformat_minor": 5
}
