{
 "cells": [
  {
   "cell_type": "code",
   "execution_count": 6,
   "id": "8af3fa6c",
   "metadata": {},
   "outputs": [
    {
     "name": "stdout",
     "output_type": "stream",
     "text": [
      "Requirement already satisfied: imbalanced-learn in c:\\users\\hp\\10 acadamy projects\\new folder (5)\\altdata-lending-risk-model\\frash\\lib\\site-packages (0.13.0)\n",
      "Requirement already satisfied: numpy<3,>=1.24.3 in c:\\users\\hp\\10 acadamy projects\\new folder (5)\\altdata-lending-risk-model\\frash\\lib\\site-packages (from imbalanced-learn) (2.3.1)\n",
      "Requirement already satisfied: scipy<2,>=1.10.1 in c:\\users\\hp\\10 acadamy projects\\new folder (5)\\altdata-lending-risk-model\\frash\\lib\\site-packages (from imbalanced-learn) (1.16.0)\n",
      "Requirement already satisfied: scikit-learn<2,>=1.3.2 in c:\\users\\hp\\10 acadamy projects\\new folder (5)\\altdata-lending-risk-model\\frash\\lib\\site-packages (from imbalanced-learn) (1.6.1)\n",
      "Requirement already satisfied: sklearn-compat<1,>=0.1 in c:\\users\\hp\\10 acadamy projects\\new folder (5)\\altdata-lending-risk-model\\frash\\lib\\site-packages (from imbalanced-learn) (0.1.3)\n",
      "Requirement already satisfied: joblib<2,>=1.1.1 in c:\\users\\hp\\10 acadamy projects\\new folder (5)\\altdata-lending-risk-model\\frash\\lib\\site-packages (from imbalanced-learn) (1.5.1)\n",
      "Requirement already satisfied: threadpoolctl<4,>=2.0.0 in c:\\users\\hp\\10 acadamy projects\\new folder (5)\\altdata-lending-risk-model\\frash\\lib\\site-packages (from imbalanced-learn) (3.6.0)\n"
     ]
    }
   ],
   "source": [
    "!pip install imbalanced-learn\n"
   ]
  },
  {
   "cell_type": "code",
   "execution_count": 21,
   "id": "20fab2fe",
   "metadata": {},
   "outputs": [
    {
     "name": "stdout",
     "output_type": "stream",
     "text": [
      "Current tracking URI: http://localhost:5000\n"
     ]
    }
   ],
   "source": [
    "import mlflow\n",
    "print(\"Current tracking URI:\", mlflow.get_tracking_uri())\n"
   ]
  },
  {
   "cell_type": "code",
   "execution_count": 22,
   "id": "52171346",
   "metadata": {},
   "outputs": [],
   "source": [
    "mlflow.set_tracking_uri(\"http://localhost:5000\")\n"
   ]
  },
  {
   "cell_type": "markdown",
   "id": "5b97c33c",
   "metadata": {},
   "source": [
    "# Import libraries "
   ]
  },
  {
   "cell_type": "code",
   "execution_count": 15,
   "id": "1320c079",
   "metadata": {},
   "outputs": [],
   "source": [
    "import pandas as pd\n",
    "from IPython.display import display\n",
    "import logging\n",
    "from sklearn.model_selection import train_test_split\n",
    "from imblearn.over_sampling import SMOTE\n",
    "import logging\n",
    "from sklearn.linear_model import LogisticRegression\n",
    "from sklearn.tree import DecisionTreeClassifier\n",
    "from sklearn.ensemble import RandomForestClassifier, GradientBoostingClassifier\n",
    "from sklearn.model_selection import GridSearchCV\n",
    "from sklearn.pipeline import Pipeline\n",
    "from sklearn.preprocessing import StandardScaler\n",
    "from sklearn.metrics import accuracy_score, precision_score, recall_score, f1_score, roc_auc_score\n",
    "import mlflow\n",
    "import matplotlib.pyplot as plt\n",
    "from sklearn.metrics import roc_curve\n",
    "import mlflow.sklearn"
   ]
  },
  {
   "cell_type": "markdown",
   "id": "264da7e8",
   "metadata": {},
   "source": [
    "# Create a folder for the models and Plots  !"
   ]
  },
  {
   "cell_type": "code",
   "execution_count": 8,
   "id": "310c06ec",
   "metadata": {},
   "outputs": [],
   "source": [
    "import os\n",
    "os.makedirs(\"C:/Users/HP/10 Acadamy PRojects/New folder (5)/Altdata-lending-risk-model/plots\", exist_ok=True)\n",
    "os.makedirs(\"C:/Users/HP/10 Acadamy PRojects/New folder (5)/Altdata-lending-risk-model/api/model\", exist_ok=True)\n"
   ]
  },
  {
   "cell_type": "markdown",
   "id": "68787a28",
   "metadata": {},
   "source": [
    "# Load Data "
   ]
  },
  {
   "cell_type": "code",
   "execution_count": 9,
   "id": "6eaa2598",
   "metadata": {},
   "outputs": [],
   "source": [
    "# Setup logging\n",
    "logging.basicConfig(level=logging.INFO)\n",
    "logger = logging.getLogger(__name__)\n",
    "\n",
    "DATA_PATH = 'C:/Users/HP/10 Acadamy PRojects/New folder (5)/Altdata-lending-risk-model/data/credit_risk_woe_mapped.csv'  \n"
   ]
  },
  {
   "cell_type": "markdown",
   "id": "da5b24fd",
   "metadata": {},
   "source": [
    "# Loading WoE-Transformed Data"
   ]
  },
  {
   "cell_type": "code",
   "execution_count": 10,
   "id": "a53c511a",
   "metadata": {},
   "outputs": [
    {
     "name": "stderr",
     "output_type": "stream",
     "text": [
      "INFO:__main__:Loading WoE-transformed data\n"
     ]
    },
    {
     "name": "stderr",
     "output_type": "stream",
     "text": [
      "INFO:__main__:Dataset loaded with shape: (95662, 40)\n"
     ]
    },
    {
     "data": {
      "application/vnd.microsoft.datawrangler.viewer.v0+json": {
       "columns": [
        {
         "name": "index",
         "rawType": "int64",
         "type": "integer"
        },
        {
         "name": "index",
         "rawType": "int64",
         "type": "integer"
        },
        {
         "name": "TransactionId",
         "rawType": "object",
         "type": "string"
        },
        {
         "name": "CustomerId",
         "rawType": "object",
         "type": "string"
        },
        {
         "name": "Amount",
         "rawType": "float64",
         "type": "float"
        },
        {
         "name": "TransactionStartTime",
         "rawType": "object",
         "type": "string"
        },
        {
         "name": "PricingStrategy",
         "rawType": "int64",
         "type": "integer"
        },
        {
         "name": "FraudResult",
         "rawType": "int64",
         "type": "integer"
        },
        {
         "name": "TotalTransactionAmount",
         "rawType": "float64",
         "type": "float"
        },
        {
         "name": "AverageTransactionAmount",
         "rawType": "float64",
         "type": "float"
        },
        {
         "name": "TotalTransactions",
         "rawType": "float64",
         "type": "float"
        },
        {
         "name": "StdTransactionAmount",
         "rawType": "float64",
         "type": "float"
        },
        {
         "name": "TransactionHour",
         "rawType": "int64",
         "type": "integer"
        },
        {
         "name": "TransactionDay",
         "rawType": "int64",
         "type": "integer"
        },
        {
         "name": "TransactionMonth",
         "rawType": "int64",
         "type": "integer"
        },
        {
         "name": "TransactionYear",
         "rawType": "int64",
         "type": "integer"
        },
        {
         "name": "ProductCategory_airtime",
         "rawType": "int64",
         "type": "integer"
        },
        {
         "name": "ProductCategory_data_bundles",
         "rawType": "int64",
         "type": "integer"
        },
        {
         "name": "ProductCategory_financial_services",
         "rawType": "int64",
         "type": "integer"
        },
        {
         "name": "ProductCategory_movies",
         "rawType": "int64",
         "type": "integer"
        },
        {
         "name": "ProductCategory_other",
         "rawType": "int64",
         "type": "integer"
        },
        {
         "name": "ProductCategory_ticket",
         "rawType": "int64",
         "type": "integer"
        },
        {
         "name": "ProductCategory_transport",
         "rawType": "int64",
         "type": "integer"
        },
        {
         "name": "ProductCategory_tv",
         "rawType": "int64",
         "type": "integer"
        },
        {
         "name": "ProductCategory_utility_bill",
         "rawType": "int64",
         "type": "integer"
        },
        {
         "name": "ChannelId_ChannelId_1",
         "rawType": "int64",
         "type": "integer"
        },
        {
         "name": "ChannelId_ChannelId_2",
         "rawType": "int64",
         "type": "integer"
        },
        {
         "name": "ChannelId_ChannelId_3",
         "rawType": "int64",
         "type": "integer"
        },
        {
         "name": "ChannelId_ChannelId_5",
         "rawType": "int64",
         "type": "integer"
        },
        {
         "name": "Recency",
         "rawType": "int64",
         "type": "integer"
        },
        {
         "name": "Frequency",
         "rawType": "int64",
         "type": "integer"
        },
        {
         "name": "Monetary",
         "rawType": "float64",
         "type": "float"
        },
        {
         "name": "RFMS_Label",
         "rawType": "int64",
         "type": "integer"
        },
        {
         "name": "User_Label",
         "rawType": "object",
         "type": "string"
        },
        {
         "name": "Good_Bad",
         "rawType": "int64",
         "type": "integer"
        },
        {
         "name": "Recency_Bin",
         "rawType": "int64",
         "type": "integer"
        },
        {
         "name": "Frequency_Bin",
         "rawType": "int64",
         "type": "integer"
        },
        {
         "name": "Monetary_Bin",
         "rawType": "int64",
         "type": "integer"
        },
        {
         "name": "Recency_Bin_WoE",
         "rawType": "float64",
         "type": "float"
        },
        {
         "name": "Frequency_Bin_WoE",
         "rawType": "float64",
         "type": "float"
        },
        {
         "name": "Monetary_Bin_WoE",
         "rawType": "float64",
         "type": "float"
        }
       ],
       "ref": "76df805a-fd1b-4fd3-ba2f-b3ab6692c1ce",
       "rows": [
        [
         "0",
         "0",
         "TransactionId_76871",
         "CustomerId_4406",
         "1000.0",
         "2018-11-15 02:18:49+00:00",
         "2",
         "0",
         "109921.75",
         "923.7121848739496",
         "-0.3118310092154472",
         "-0.1675235059625623",
         "2",
         "15",
         "11",
         "2018",
         "1",
         "0",
         "0",
         "0",
         "0",
         "0",
         "0",
         "0",
         "0",
         "0",
         "0",
         "1",
         "0",
         "90",
         "119",
         "109921.75",
         "1",
         "Bad",
         "1",
         "9",
         "5",
         "3",
         "21.41295090315993",
         "-0.6915334534729339",
         "21.46017020391087"
        ],
        [
         "1",
         "1",
         "TransactionId_73770",
         "CustomerId_4406",
         "-20.0",
         "2018-11-15 02:19:08+00:00",
         "2",
         "0",
         "109921.75",
         "923.7121848739496",
         "-0.3118310092154472",
         "-0.1675235059625623",
         "2",
         "15",
         "11",
         "2018",
         "0",
         "0",
         "1",
         "0",
         "0",
         "0",
         "0",
         "0",
         "0",
         "0",
         "1",
         "0",
         "0",
         "90",
         "119",
         "109921.75",
         "1",
         "Bad",
         "1",
         "9",
         "5",
         "3",
         "21.41295090315993",
         "-0.6915334534729339",
         "21.46017020391087"
        ],
        [
         "2",
         "2",
         "TransactionId_26203",
         "CustomerId_4683",
         "500.0",
         "2018-11-15 02:44:21+00:00",
         "2",
         "0",
         "1000.0",
         "500.0",
         "-0.444993397059421",
         "-0.2017187182185377",
         "2",
         "15",
         "11",
         "2018",
         "1",
         "0",
         "0",
         "0",
         "0",
         "0",
         "0",
         "0",
         "0",
         "0",
         "0",
         "1",
         "0",
         "90",
         "2",
         "1000.0",
         "1",
         "Bad",
         "1",
         "9",
         "0",
         "0",
         "21.41295090315993",
         "21.458398724262675",
         "21.45672857773684"
        ],
        [
         "3",
         "3",
         "TransactionId_380",
         "CustomerId_988",
         "20000.0",
         "2018-11-15 03:32:55+00:00",
         "2",
         "0",
         "228727.2",
         "6019.136842105264",
         "-0.4040203546458906",
         "-0.0087374308608173",
         "3",
         "15",
         "11",
         "2018",
         "0",
         "0",
         "0",
         "0",
         "0",
         "0",
         "0",
         "0",
         "1",
         "0",
         "0",
         "1",
         "0",
         "90",
         "38",
         "228727.2",
         "1",
         "Bad",
         "1",
         "9",
         "2",
         "5",
         "21.41295090315993",
         "21.469909195100747",
         "-0.4464380896870709"
        ],
        [
         "4",
         "4",
         "TransactionId_28195",
         "CustomerId_988",
         "-644.0",
         "2018-11-15 03:34:21+00:00",
         "2",
         "0",
         "228727.2",
         "6019.136842105264",
         "-0.4040203546458906",
         "-0.0087374308608173",
         "3",
         "15",
         "11",
         "2018",
         "0",
         "0",
         "1",
         "0",
         "0",
         "0",
         "0",
         "0",
         "0",
         "0",
         "1",
         "0",
         "0",
         "90",
         "38",
         "228727.2",
         "1",
         "Bad",
         "1",
         "9",
         "2",
         "5",
         "21.41295090315993",
         "21.469909195100747",
         "-0.4464380896870709"
        ]
       ],
       "shape": {
        "columns": 40,
        "rows": 5
       }
      },
      "text/html": [
       "<div>\n",
       "<style scoped>\n",
       "    .dataframe tbody tr th:only-of-type {\n",
       "        vertical-align: middle;\n",
       "    }\n",
       "\n",
       "    .dataframe tbody tr th {\n",
       "        vertical-align: top;\n",
       "    }\n",
       "\n",
       "    .dataframe thead th {\n",
       "        text-align: right;\n",
       "    }\n",
       "</style>\n",
       "<table border=\"1\" class=\"dataframe\">\n",
       "  <thead>\n",
       "    <tr style=\"text-align: right;\">\n",
       "      <th></th>\n",
       "      <th>index</th>\n",
       "      <th>TransactionId</th>\n",
       "      <th>CustomerId</th>\n",
       "      <th>Amount</th>\n",
       "      <th>TransactionStartTime</th>\n",
       "      <th>PricingStrategy</th>\n",
       "      <th>FraudResult</th>\n",
       "      <th>TotalTransactionAmount</th>\n",
       "      <th>AverageTransactionAmount</th>\n",
       "      <th>TotalTransactions</th>\n",
       "      <th>...</th>\n",
       "      <th>Monetary</th>\n",
       "      <th>RFMS_Label</th>\n",
       "      <th>User_Label</th>\n",
       "      <th>Good_Bad</th>\n",
       "      <th>Recency_Bin</th>\n",
       "      <th>Frequency_Bin</th>\n",
       "      <th>Monetary_Bin</th>\n",
       "      <th>Recency_Bin_WoE</th>\n",
       "      <th>Frequency_Bin_WoE</th>\n",
       "      <th>Monetary_Bin_WoE</th>\n",
       "    </tr>\n",
       "  </thead>\n",
       "  <tbody>\n",
       "    <tr>\n",
       "      <th>0</th>\n",
       "      <td>0</td>\n",
       "      <td>TransactionId_76871</td>\n",
       "      <td>CustomerId_4406</td>\n",
       "      <td>1000.0</td>\n",
       "      <td>2018-11-15 02:18:49+00:00</td>\n",
       "      <td>2</td>\n",
       "      <td>0</td>\n",
       "      <td>109921.75</td>\n",
       "      <td>923.712185</td>\n",
       "      <td>-0.311831</td>\n",
       "      <td>...</td>\n",
       "      <td>109921.75</td>\n",
       "      <td>1</td>\n",
       "      <td>Bad</td>\n",
       "      <td>1</td>\n",
       "      <td>9</td>\n",
       "      <td>5</td>\n",
       "      <td>3</td>\n",
       "      <td>21.412951</td>\n",
       "      <td>-0.691533</td>\n",
       "      <td>21.460170</td>\n",
       "    </tr>\n",
       "    <tr>\n",
       "      <th>1</th>\n",
       "      <td>1</td>\n",
       "      <td>TransactionId_73770</td>\n",
       "      <td>CustomerId_4406</td>\n",
       "      <td>-20.0</td>\n",
       "      <td>2018-11-15 02:19:08+00:00</td>\n",
       "      <td>2</td>\n",
       "      <td>0</td>\n",
       "      <td>109921.75</td>\n",
       "      <td>923.712185</td>\n",
       "      <td>-0.311831</td>\n",
       "      <td>...</td>\n",
       "      <td>109921.75</td>\n",
       "      <td>1</td>\n",
       "      <td>Bad</td>\n",
       "      <td>1</td>\n",
       "      <td>9</td>\n",
       "      <td>5</td>\n",
       "      <td>3</td>\n",
       "      <td>21.412951</td>\n",
       "      <td>-0.691533</td>\n",
       "      <td>21.460170</td>\n",
       "    </tr>\n",
       "    <tr>\n",
       "      <th>2</th>\n",
       "      <td>2</td>\n",
       "      <td>TransactionId_26203</td>\n",
       "      <td>CustomerId_4683</td>\n",
       "      <td>500.0</td>\n",
       "      <td>2018-11-15 02:44:21+00:00</td>\n",
       "      <td>2</td>\n",
       "      <td>0</td>\n",
       "      <td>1000.00</td>\n",
       "      <td>500.000000</td>\n",
       "      <td>-0.444993</td>\n",
       "      <td>...</td>\n",
       "      <td>1000.00</td>\n",
       "      <td>1</td>\n",
       "      <td>Bad</td>\n",
       "      <td>1</td>\n",
       "      <td>9</td>\n",
       "      <td>0</td>\n",
       "      <td>0</td>\n",
       "      <td>21.412951</td>\n",
       "      <td>21.458399</td>\n",
       "      <td>21.456729</td>\n",
       "    </tr>\n",
       "    <tr>\n",
       "      <th>3</th>\n",
       "      <td>3</td>\n",
       "      <td>TransactionId_380</td>\n",
       "      <td>CustomerId_988</td>\n",
       "      <td>20000.0</td>\n",
       "      <td>2018-11-15 03:32:55+00:00</td>\n",
       "      <td>2</td>\n",
       "      <td>0</td>\n",
       "      <td>228727.20</td>\n",
       "      <td>6019.136842</td>\n",
       "      <td>-0.404020</td>\n",
       "      <td>...</td>\n",
       "      <td>228727.20</td>\n",
       "      <td>1</td>\n",
       "      <td>Bad</td>\n",
       "      <td>1</td>\n",
       "      <td>9</td>\n",
       "      <td>2</td>\n",
       "      <td>5</td>\n",
       "      <td>21.412951</td>\n",
       "      <td>21.469909</td>\n",
       "      <td>-0.446438</td>\n",
       "    </tr>\n",
       "    <tr>\n",
       "      <th>4</th>\n",
       "      <td>4</td>\n",
       "      <td>TransactionId_28195</td>\n",
       "      <td>CustomerId_988</td>\n",
       "      <td>-644.0</td>\n",
       "      <td>2018-11-15 03:34:21+00:00</td>\n",
       "      <td>2</td>\n",
       "      <td>0</td>\n",
       "      <td>228727.20</td>\n",
       "      <td>6019.136842</td>\n",
       "      <td>-0.404020</td>\n",
       "      <td>...</td>\n",
       "      <td>228727.20</td>\n",
       "      <td>1</td>\n",
       "      <td>Bad</td>\n",
       "      <td>1</td>\n",
       "      <td>9</td>\n",
       "      <td>2</td>\n",
       "      <td>5</td>\n",
       "      <td>21.412951</td>\n",
       "      <td>21.469909</td>\n",
       "      <td>-0.446438</td>\n",
       "    </tr>\n",
       "  </tbody>\n",
       "</table>\n",
       "<p>5 rows × 40 columns</p>\n",
       "</div>"
      ],
      "text/plain": [
       "   index        TransactionId       CustomerId   Amount  \\\n",
       "0      0  TransactionId_76871  CustomerId_4406   1000.0   \n",
       "1      1  TransactionId_73770  CustomerId_4406    -20.0   \n",
       "2      2  TransactionId_26203  CustomerId_4683    500.0   \n",
       "3      3    TransactionId_380   CustomerId_988  20000.0   \n",
       "4      4  TransactionId_28195   CustomerId_988   -644.0   \n",
       "\n",
       "        TransactionStartTime  PricingStrategy  FraudResult  \\\n",
       "0  2018-11-15 02:18:49+00:00                2            0   \n",
       "1  2018-11-15 02:19:08+00:00                2            0   \n",
       "2  2018-11-15 02:44:21+00:00                2            0   \n",
       "3  2018-11-15 03:32:55+00:00                2            0   \n",
       "4  2018-11-15 03:34:21+00:00                2            0   \n",
       "\n",
       "   TotalTransactionAmount  AverageTransactionAmount  TotalTransactions  ...  \\\n",
       "0               109921.75                923.712185          -0.311831  ...   \n",
       "1               109921.75                923.712185          -0.311831  ...   \n",
       "2                 1000.00                500.000000          -0.444993  ...   \n",
       "3               228727.20               6019.136842          -0.404020  ...   \n",
       "4               228727.20               6019.136842          -0.404020  ...   \n",
       "\n",
       "    Monetary  RFMS_Label  User_Label  Good_Bad  Recency_Bin  Frequency_Bin  \\\n",
       "0  109921.75           1         Bad         1            9              5   \n",
       "1  109921.75           1         Bad         1            9              5   \n",
       "2    1000.00           1         Bad         1            9              0   \n",
       "3  228727.20           1         Bad         1            9              2   \n",
       "4  228727.20           1         Bad         1            9              2   \n",
       "\n",
       "   Monetary_Bin  Recency_Bin_WoE  Frequency_Bin_WoE  Monetary_Bin_WoE  \n",
       "0             3        21.412951          -0.691533         21.460170  \n",
       "1             3        21.412951          -0.691533         21.460170  \n",
       "2             0        21.412951          21.458399         21.456729  \n",
       "3             5        21.412951          21.469909         -0.446438  \n",
       "4             5        21.412951          21.469909         -0.446438  \n",
       "\n",
       "[5 rows x 40 columns]"
      ]
     },
     "metadata": {},
     "output_type": "display_data"
    },
    {
     "name": "stderr",
     "output_type": "stream",
     "text": [
      "INFO:__main__:Selected features: ['Recency_Bin_WoE', 'Frequency_Bin_WoE', 'Monetary_Bin_WoE', 'PricingStrategy', 'TotalTransactionAmount', 'TransactionMonth', 'TransactionYear']\n",
      "INFO:__main__:Target distribution:\n",
      "Good_Bad\n",
      "1    0.821329\n",
      "0    0.178671\n",
      "Name: proportion, dtype: float64\n"
     ]
    },
    {
     "data": {
      "application/vnd.microsoft.datawrangler.viewer.v0+json": {
       "columns": [
        {
         "name": "index",
         "rawType": "int64",
         "type": "integer"
        },
        {
         "name": "Recency_Bin_WoE",
         "rawType": "float64",
         "type": "float"
        },
        {
         "name": "Frequency_Bin_WoE",
         "rawType": "float64",
         "type": "float"
        },
        {
         "name": "Monetary_Bin_WoE",
         "rawType": "float64",
         "type": "float"
        },
        {
         "name": "PricingStrategy",
         "rawType": "int64",
         "type": "integer"
        },
        {
         "name": "TotalTransactionAmount",
         "rawType": "float64",
         "type": "float"
        },
        {
         "name": "TransactionMonth",
         "rawType": "int64",
         "type": "integer"
        },
        {
         "name": "TransactionYear",
         "rawType": "int64",
         "type": "integer"
        }
       ],
       "ref": "d508d68d-d308-49e9-b30d-b78660a09856",
       "rows": [
        [
         "0",
         "21.41295090315993",
         "-0.6915334534729339",
         "21.46017020391087",
         "2",
         "109921.75",
         "11",
         "2018"
        ],
        [
         "1",
         "21.41295090315993",
         "-0.6915334534729339",
         "21.46017020391087",
         "2",
         "109921.75",
         "11",
         "2018"
        ],
        [
         "2",
         "21.41295090315993",
         "21.458398724262675",
         "21.45672857773684",
         "2",
         "1000.0",
         "11",
         "2018"
        ],
        [
         "3",
         "21.41295090315993",
         "21.469909195100747",
         "-0.4464380896870709",
         "2",
         "228727.2",
         "11",
         "2018"
        ],
        [
         "4",
         "21.41295090315993",
         "21.469909195100747",
         "-0.4464380896870709",
         "2",
         "228727.2",
         "11",
         "2018"
        ]
       ],
       "shape": {
        "columns": 7,
        "rows": 5
       }
      },
      "text/html": [
       "<div>\n",
       "<style scoped>\n",
       "    .dataframe tbody tr th:only-of-type {\n",
       "        vertical-align: middle;\n",
       "    }\n",
       "\n",
       "    .dataframe tbody tr th {\n",
       "        vertical-align: top;\n",
       "    }\n",
       "\n",
       "    .dataframe thead th {\n",
       "        text-align: right;\n",
       "    }\n",
       "</style>\n",
       "<table border=\"1\" class=\"dataframe\">\n",
       "  <thead>\n",
       "    <tr style=\"text-align: right;\">\n",
       "      <th></th>\n",
       "      <th>Recency_Bin_WoE</th>\n",
       "      <th>Frequency_Bin_WoE</th>\n",
       "      <th>Monetary_Bin_WoE</th>\n",
       "      <th>PricingStrategy</th>\n",
       "      <th>TotalTransactionAmount</th>\n",
       "      <th>TransactionMonth</th>\n",
       "      <th>TransactionYear</th>\n",
       "    </tr>\n",
       "  </thead>\n",
       "  <tbody>\n",
       "    <tr>\n",
       "      <th>0</th>\n",
       "      <td>21.412951</td>\n",
       "      <td>-0.691533</td>\n",
       "      <td>21.460170</td>\n",
       "      <td>2</td>\n",
       "      <td>109921.75</td>\n",
       "      <td>11</td>\n",
       "      <td>2018</td>\n",
       "    </tr>\n",
       "    <tr>\n",
       "      <th>1</th>\n",
       "      <td>21.412951</td>\n",
       "      <td>-0.691533</td>\n",
       "      <td>21.460170</td>\n",
       "      <td>2</td>\n",
       "      <td>109921.75</td>\n",
       "      <td>11</td>\n",
       "      <td>2018</td>\n",
       "    </tr>\n",
       "    <tr>\n",
       "      <th>2</th>\n",
       "      <td>21.412951</td>\n",
       "      <td>21.458399</td>\n",
       "      <td>21.456729</td>\n",
       "      <td>2</td>\n",
       "      <td>1000.00</td>\n",
       "      <td>11</td>\n",
       "      <td>2018</td>\n",
       "    </tr>\n",
       "    <tr>\n",
       "      <th>3</th>\n",
       "      <td>21.412951</td>\n",
       "      <td>21.469909</td>\n",
       "      <td>-0.446438</td>\n",
       "      <td>2</td>\n",
       "      <td>228727.20</td>\n",
       "      <td>11</td>\n",
       "      <td>2018</td>\n",
       "    </tr>\n",
       "    <tr>\n",
       "      <th>4</th>\n",
       "      <td>21.412951</td>\n",
       "      <td>21.469909</td>\n",
       "      <td>-0.446438</td>\n",
       "      <td>2</td>\n",
       "      <td>228727.20</td>\n",
       "      <td>11</td>\n",
       "      <td>2018</td>\n",
       "    </tr>\n",
       "  </tbody>\n",
       "</table>\n",
       "</div>"
      ],
      "text/plain": [
       "   Recency_Bin_WoE  Frequency_Bin_WoE  Monetary_Bin_WoE  PricingStrategy  \\\n",
       "0        21.412951          -0.691533         21.460170                2   \n",
       "1        21.412951          -0.691533         21.460170                2   \n",
       "2        21.412951          21.458399         21.456729                2   \n",
       "3        21.412951          21.469909         -0.446438                2   \n",
       "4        21.412951          21.469909         -0.446438                2   \n",
       "\n",
       "   TotalTransactionAmount  TransactionMonth  TransactionYear  \n",
       "0               109921.75                11             2018  \n",
       "1               109921.75                11             2018  \n",
       "2                 1000.00                11             2018  \n",
       "3               228727.20                11             2018  \n",
       "4               228727.20                11             2018  "
      ]
     },
     "metadata": {},
     "output_type": "display_data"
    }
   ],
   "source": [
    "logger.info('Loading WoE-transformed data')\n",
    "try:\n",
    "    df = pd.read_csv(DATA_PATH)\n",
    "    logger.info(f'Dataset loaded with shape: {df.shape}')\n",
    "    display(df.head())\n",
    "\n",
    "    # Select features: WoE-transformed and high-correlation numeric features\n",
    "    woe_features = ['Recency_Bin_WoE', 'Frequency_Bin_WoE', 'Monetary_Bin_WoE']\n",
    "    numeric_features = ['PricingStrategy', 'TotalTransactionAmount', 'TransactionMonth', 'TransactionYear']\n",
    "    features = woe_features + numeric_features\n",
    "\n",
    "    # Verify features exist\n",
    "    missing_features = [f for f in features if f not in df.columns]\n",
    "    if missing_features:\n",
    "        logger.error(f'Missing features: {missing_features}')\n",
    "        raise ValueError(f'Missing features: {missing_features}')\n",
    "\n",
    "    X = df[features]\n",
    "    y = df['Good_Bad']\n",
    "    logger.info(f'Selected features: {features}')\n",
    "    logger.info(f'Target distribution:\\n{y.value_counts(normalize=True)}')\n",
    "    display(X.head())\n",
    "\n",
    "except Exception as e:\n",
    "    logger.error(f'Error loading data: {str(e)}')\n",
    "    raise\n"
   ]
  },
  {
   "cell_type": "code",
   "execution_count": 27,
   "id": "21e64cce",
   "metadata": {},
   "outputs": [
    {
     "name": "stderr",
     "output_type": "stream",
     "text": [
      "INFO:__main__:Train shape: (76529, 7), Test shape: (19133, 7)\n",
      "INFO:__main__:Train target distribution:\n",
      "Good_Bad\n",
      "1    0.821336\n",
      "0    0.178664\n",
      "Name: proportion, dtype: float64\n"
     ]
    }
   ],
   "source": [
    "# Split into 80% training and 20% testing sets with stratification\n",
    "X_train, X_test, y_train, y_test = train_test_split(\n",
    "    X, y, test_size=0.2, stratify=y, random_state=42\n",
    ")\n",
    "\n",
    "logger.info(f'Train shape: {X_train.shape}, Test shape: {X_test.shape}')\n",
    "logger.info(f'Train target distribution:\\n{y_train.value_counts(normalize=True)}')\n"
   ]
  },
  {
   "cell_type": "markdown",
   "id": "c7a73074",
   "metadata": {},
   "source": [
    "##  Handle Class Imbalance  \n",
    "\n"
   ]
  },
  {
   "cell_type": "code",
   "execution_count": null,
   "id": "8ec24ee1",
   "metadata": {},
   "outputs": [
    {
     "name": "stderr",
     "output_type": "stream",
     "text": [
      "INFO:__main__:Applying SMOTE to balance training data\n",
      "INFO:__main__:Resampled training set shape: (125712, 7)\n",
      "INFO:__main__:Resampled target distribution:\n",
      "Good_Bad\n",
      "1    0.5\n",
      "0    0.5\n",
      "Name: proportion, dtype: float64\n"
     ]
    }
   ],
   "source": [
    "\n",
    "logger.info('Applying SMOTE to balance training data')\n",
    "try:\n",
    "    smote = SMOTE(random_state=42)\n",
    "    X_resampled, y_resampled = smote.fit_resample(X_train, y_train)\n",
    "    logger.info(f'Resampled training set shape: {X_resampled.shape}')\n",
    "    logger.info(f'Resampled target distribution:\\n{pd.Series(y_resampled).value_counts(normalize=True)}')\n",
    "except Exception as e:\n",
    "    logger.error(f'Error applying SMOTE: {str(e)}')\n",
    "    raise\n"
   ]
  },
  {
   "cell_type": "markdown",
   "id": "45867ddb",
   "metadata": {},
   "source": [
    "## Define and Train Models  "
   ]
  },
  {
   "cell_type": "code",
   "execution_count": 14,
   "id": "63862949",
   "metadata": {},
   "outputs": [
    {
     "name": "stderr",
     "output_type": "stream",
     "text": [
      "INFO:__main__:Starting model training\n",
      "INFO:__main__:Training LogisticRegression\n",
      "2025/06/29 15:33:33 WARNING mlflow.models.model: `artifact_path` is deprecated. Please use `name` instead.\n",
      "2025/06/29 15:34:13 WARNING mlflow.models.model: Model logged without a signature and input example. Please set `input_example` parameter when logging the model to auto infer the model signature.\n",
      "2025/06/29 15:34:13 WARNING mlflow.models.model: `artifact_path` is deprecated. Please use `name` instead.\n",
      "2025/06/29 15:34:34 WARNING mlflow.models.model: Model logged without a signature and input example. Please set `input_example` parameter when logging the model to auto infer the model signature.\n",
      "INFO:__main__:LogisticRegression trained with ROC AUC: 1.0000\n"
     ]
    },
    {
     "name": "stdout",
     "output_type": "stream",
     "text": [
      "LogisticRegression - Best Params: {'classifier__C': 0.01}, Test ROC AUC: 1.0000\n"
     ]
    },
    {
     "name": "stderr",
     "output_type": "stream",
     "text": [
      "INFO:__main__:Training DecisionTree\n",
      "2025/06/29 15:34:39 WARNING mlflow.models.model: `artifact_path` is deprecated. Please use `name` instead.\n",
      "2025/06/29 15:34:59 WARNING mlflow.models.model: Model logged without a signature and input example. Please set `input_example` parameter when logging the model to auto infer the model signature.\n",
      "2025/06/29 15:35:00 WARNING mlflow.models.model: `artifact_path` is deprecated. Please use `name` instead.\n",
      "2025/06/29 15:35:21 WARNING mlflow.models.model: Model logged without a signature and input example. Please set `input_example` parameter when logging the model to auto infer the model signature.\n",
      "INFO:__main__:DecisionTree trained with ROC AUC: 1.0000\n"
     ]
    },
    {
     "name": "stdout",
     "output_type": "stream",
     "text": [
      "DecisionTree - Best Params: {'classifier__max_depth': 3}, Test ROC AUC: 1.0000\n"
     ]
    },
    {
     "name": "stderr",
     "output_type": "stream",
     "text": [
      "INFO:__main__:Training RandomForest\n",
      "2025/06/29 15:37:11 WARNING mlflow.models.model: `artifact_path` is deprecated. Please use `name` instead.\n",
      "2025/06/29 15:37:36 WARNING mlflow.models.model: Model logged without a signature and input example. Please set `input_example` parameter when logging the model to auto infer the model signature.\n",
      "INFO:__main__:RandomForest trained with ROC AUC: 1.0000\n"
     ]
    },
    {
     "name": "stdout",
     "output_type": "stream",
     "text": [
      "RandomForest - Best Params: {'classifier__max_depth': 5, 'classifier__n_estimators': 50}, Test ROC AUC: 1.0000\n"
     ]
    },
    {
     "name": "stderr",
     "output_type": "stream",
     "text": [
      "INFO:__main__:Training GradientBoosting\n",
      "2025/06/29 15:41:14 WARNING mlflow.models.model: `artifact_path` is deprecated. Please use `name` instead.\n",
      "2025/06/29 15:41:37 WARNING mlflow.models.model: Model logged without a signature and input example. Please set `input_example` parameter when logging the model to auto infer the model signature.\n",
      "INFO:__main__:GradientBoosting trained with ROC AUC: 1.0000\n"
     ]
    },
    {
     "name": "stdout",
     "output_type": "stream",
     "text": [
      "GradientBoosting - Best Params: {'classifier__learning_rate': 0.01, 'classifier__n_estimators': 50}, Test ROC AUC: 1.0000\n"
     ]
    }
   ],
   "source": [
    "logger.info('Starting model training')\n",
    "\n",
    "# Define models and hyperparameter grids\n",
    "models = {\n",
    "    'LogisticRegression': LogisticRegression(max_iter=1000),\n",
    "    'DecisionTree': DecisionTreeClassifier(random_state=42),\n",
    "    'RandomForest': RandomForestClassifier(random_state=42),\n",
    "    'GradientBoosting': GradientBoostingClassifier(random_state=42)\n",
    "}\n",
    "\n",
    "param_grids = {\n",
    "    'LogisticRegression': {'classifier__C': [0.01, 0.1, 1, 10]},\n",
    "    'DecisionTree': {'classifier__max_depth': [3, 5, 7, None]},\n",
    "    'RandomForest': {'classifier__n_estimators': [50, 100, 200], 'classifier__max_depth': [5, 10, None]},\n",
    "    'GradientBoosting': {'classifier__learning_rate': [0.01, 0.1, 0.2], 'classifier__n_estimators': [50, 100, 200]}\n",
    "}\n",
    "\n",
    "# Initialize result containers\n",
    "grid_searches = {}\n",
    "performance_metrics = {}\n",
    "best_model_name = None\n",
    "best_roc_auc = 0\n",
    "\n",
    "for name, model in models.items():\n",
    "    with mlflow.start_run(run_name=name):\n",
    "        logger.info(f'Training {name}')\n",
    "        try:\n",
    "            pipeline = Pipeline([\n",
    "                ('scaler', StandardScaler()),\n",
    "                ('classifier', model)\n",
    "            ])\n",
    "\n",
    "            grid_search = GridSearchCV(\n",
    "                pipeline, param_grids[name],\n",
    "                cv=5, scoring='roc_auc', n_jobs=-1\n",
    "            )\n",
    "            grid_search.fit(X_resampled, y_resampled)\n",
    "\n",
    "            # Log best params and metrics\n",
    "            mlflow.log_params(grid_search.best_params_)\n",
    "            mlflow.log_metric('best_cv_roc_auc', grid_search.best_score_)\n",
    "\n",
    "            # Evaluate\n",
    "            y_pred = grid_search.predict(X_test)\n",
    "            y_prob = grid_search.predict_proba(X_test)[:, 1]\n",
    "\n",
    "            metrics = {\n",
    "                'accuracy': accuracy_score(y_test, y_pred),\n",
    "                'precision': precision_score(y_test, y_pred, zero_division=0),\n",
    "                'recall': recall_score(y_test, y_pred, zero_division=0),\n",
    "                'f1_score': f1_score(y_test, y_pred, zero_division=0),\n",
    "                'roc_auc': roc_auc_score(y_test, y_prob)\n",
    "            }\n",
    "\n",
    "            performance_metrics[name] = metrics\n",
    "            for metric, value in metrics.items():\n",
    "                mlflow.log_metric(metric, value)\n",
    "\n",
    "            mlflow.sklearn.log_model(grid_search.best_estimator_, f'{name}_model')\n",
    "\n",
    "            if metrics['roc_auc'] > best_roc_auc:\n",
    "                best_roc_auc = metrics['roc_auc']\n",
    "                best_model_name = name\n",
    "                mlflow.sklearn.log_model(grid_search.best_estimator_, 'best_model')\n",
    "\n",
    "            grid_searches[name] = grid_search\n",
    "            logger.info(f'{name} trained with ROC AUC: {metrics[\"roc_auc\"]:.4f}')\n",
    "            print(f'{name} - Best Params: {grid_search.best_params_}, Test ROC AUC: {metrics[\"roc_auc\"]:.4f}')\n",
    "        \n",
    "        except Exception as e:\n",
    "            logger.error(f'Error training {name}: {str(e)}')\n",
    "            raise\n"
   ]
  },
  {
   "cell_type": "markdown",
   "id": "58dbd72d",
   "metadata": {},
   "source": [
    "# Evaluate Models  "
   ]
  },
  {
   "cell_type": "code",
   "execution_count": 16,
   "id": "e624dccd",
   "metadata": {},
   "outputs": [
    {
     "name": "stderr",
     "output_type": "stream",
     "text": [
      "INFO:__main__:Evaluating models\n"
     ]
    },
    {
     "data": {
      "application/vnd.microsoft.datawrangler.viewer.v0+json": {
       "columns": [
        {
         "name": "index",
         "rawType": "object",
         "type": "string"
        },
        {
         "name": "accuracy",
         "rawType": "float64",
         "type": "float"
        },
        {
         "name": "precision",
         "rawType": "float64",
         "type": "float"
        },
        {
         "name": "recall",
         "rawType": "float64",
         "type": "float"
        },
        {
         "name": "f1_score",
         "rawType": "float64",
         "type": "float"
        },
        {
         "name": "roc_auc",
         "rawType": "float64",
         "type": "float"
        }
       ],
       "ref": "daac2324-88dc-4511-8a7e-e22c10653568",
       "rows": [
        [
         "LogisticRegression",
         "1.0",
         "1.0",
         "1.0",
         "1.0",
         "0.9999999999999999"
        ],
        [
         "DecisionTree",
         "1.0",
         "1.0",
         "1.0",
         "1.0",
         "1.0"
        ],
        [
         "RandomForest",
         "1.0",
         "1.0",
         "1.0",
         "1.0",
         "1.0"
        ],
        [
         "GradientBoosting",
         "1.0",
         "1.0",
         "1.0",
         "1.0",
         "1.0"
        ]
       ],
       "shape": {
        "columns": 5,
        "rows": 4
       }
      },
      "text/html": [
       "<div>\n",
       "<style scoped>\n",
       "    .dataframe tbody tr th:only-of-type {\n",
       "        vertical-align: middle;\n",
       "    }\n",
       "\n",
       "    .dataframe tbody tr th {\n",
       "        vertical-align: top;\n",
       "    }\n",
       "\n",
       "    .dataframe thead th {\n",
       "        text-align: right;\n",
       "    }\n",
       "</style>\n",
       "<table border=\"1\" class=\"dataframe\">\n",
       "  <thead>\n",
       "    <tr style=\"text-align: right;\">\n",
       "      <th></th>\n",
       "      <th>accuracy</th>\n",
       "      <th>precision</th>\n",
       "      <th>recall</th>\n",
       "      <th>f1_score</th>\n",
       "      <th>roc_auc</th>\n",
       "    </tr>\n",
       "  </thead>\n",
       "  <tbody>\n",
       "    <tr>\n",
       "      <th>LogisticRegression</th>\n",
       "      <td>1.0</td>\n",
       "      <td>1.0</td>\n",
       "      <td>1.0</td>\n",
       "      <td>1.0</td>\n",
       "      <td>1.0</td>\n",
       "    </tr>\n",
       "    <tr>\n",
       "      <th>DecisionTree</th>\n",
       "      <td>1.0</td>\n",
       "      <td>1.0</td>\n",
       "      <td>1.0</td>\n",
       "      <td>1.0</td>\n",
       "      <td>1.0</td>\n",
       "    </tr>\n",
       "    <tr>\n",
       "      <th>RandomForest</th>\n",
       "      <td>1.0</td>\n",
       "      <td>1.0</td>\n",
       "      <td>1.0</td>\n",
       "      <td>1.0</td>\n",
       "      <td>1.0</td>\n",
       "    </tr>\n",
       "    <tr>\n",
       "      <th>GradientBoosting</th>\n",
       "      <td>1.0</td>\n",
       "      <td>1.0</td>\n",
       "      <td>1.0</td>\n",
       "      <td>1.0</td>\n",
       "      <td>1.0</td>\n",
       "    </tr>\n",
       "  </tbody>\n",
       "</table>\n",
       "</div>"
      ],
      "text/plain": [
       "                    accuracy  precision  recall  f1_score  roc_auc\n",
       "LogisticRegression       1.0        1.0     1.0       1.0      1.0\n",
       "DecisionTree             1.0        1.0     1.0       1.0      1.0\n",
       "RandomForest             1.0        1.0     1.0       1.0      1.0\n",
       "GradientBoosting         1.0        1.0     1.0       1.0      1.0"
      ]
     },
     "metadata": {},
     "output_type": "display_data"
    },
    {
     "name": "stderr",
     "output_type": "stream",
     "text": [
      "INFO:__main__:Model performance saved to ../data/model_performance.csv\n"
     ]
    },
    {
     "data": {
      "image/png": "[encoded data removed]",
      "text/plain": [
       "<Figure size 1000x600 with 1 Axes>"
      ]
     },
     "metadata": {},
     "output_type": "display_data"
    },
    {
     "name": "stderr",
     "output_type": "stream",
     "text": [
      "INFO:__main__:ROC curves saved to ../plots/roc_curves.png\n"
     ]
    }
   ],
   "source": [
    "logger.info('Evaluating models')\n",
    "try:\n",
    "    # Create DataFrame of performance metrics and display\n",
    "    performance_df = pd.DataFrame(performance_metrics).T\n",
    "    display(performance_df)\n",
    "    \n",
    "    # Save performance metrics to CSV\n",
    "    performance_df.to_csv('../data/model_performance.csv')\n",
    "    logger.info('Model performance saved to ../data/model_performance.csv')\n",
    "\n",
    "    # Plot ROC curves for all models\n",
    "    plt.figure(figsize=(10, 6))\n",
    "    for name in models:\n",
    "        y_prob = grid_searches[name].predict_proba(X_test)[:, 1]\n",
    "        fpr, tpr, _ = roc_curve(y_test, y_prob)\n",
    "        plt.plot(fpr, tpr, label=f'{name} (AUC = {performance_metrics[name][\"roc_auc\"]:.4f})')\n",
    "    plt.plot([0, 1], [0, 1], 'k--')  # Diagonal line\n",
    "    plt.xlabel('False Positive Rate')\n",
    "    plt.ylabel('True Positive Rate')\n",
    "    plt.title('ROC Curves for Credit Risk Models')\n",
    "    plt.legend()\n",
    "    plt.savefig('../plots/roc_curves.png')\n",
    "    plt.show()\n",
    "    logger.info('ROC curves saved to ../plots/roc_curves.png')\n",
    "\n",
    "except Exception as e:\n",
    "    logger.error(f'Error evaluating models: {str(e)}')\n",
    "    raise\n"
   ]
  },
  {
   "cell_type": "code",
   "execution_count": 20,
   "id": "026a1a37",
   "metadata": {},
   "outputs": [],
   "source": [
    "mlflow.set_tracking_uri(\"http://localhost:5000\")\n"
   ]
  },
  {
   "cell_type": "markdown",
   "id": "e8f23235",
   "metadata": {},
   "source": [
    "# Register Best Model"
   ]
  },
  {
   "cell_type": "code",
   "execution_count": 25,
   "id": "cf4e4b43",
   "metadata": {},
   "outputs": [
    {
     "name": "stderr",
     "output_type": "stream",
     "text": [
      "2025/06/29 16:07:16 WARNING mlflow.models.model: `artifact_path` is deprecated. Please use `name` instead.\n",
      "2025/06/29 16:07:22 WARNING mlflow.models.model: Model logged without a signature and input example. Please set `input_example` parameter when logging the model to auto infer the model signature.\n",
      "Registered model 'CreditRiskBestModel' already exists. Creating a new version of this model...\n",
      "2025/06/29 16:07:23 WARNING mlflow.tracking._model_registry.fluent: Run with id e827c9f49e524465b3bd7ceb7193b6a7 has no artifacts at artifact path 'best_model', registering model based on models:/m-c2940f5087e24e4fabf5fc3b16f728e5 instead\n",
      "2025/06/29 16:07:23 INFO mlflow.store.model_registry.abstract_store: Waiting up to 300 seconds for model version to finish creation. Model name: CreditRiskBestModel, version 1\n"
     ]
    },
    {
     "name": "stdout",
     "output_type": "stream",
     "text": [
      "Model logged in run e827c9f49e524465b3bd7ceb7193b6a7\n",
      "🏃 View run legendary-mare-758 at: http://localhost:5000/#/experiments/0/runs/e827c9f49e524465b3bd7ceb7193b6a7\n",
      "🧪 View experiment at: http://localhost:5000/#/experiments/0\n",
      "Model registered\n"
     ]
    },
    {
     "name": "stderr",
     "output_type": "stream",
     "text": [
      "Created version '1' of model 'CreditRiskBestModel'.\n"
     ]
    }
   ],
   "source": [
    "import mlflow\n",
    "from sklearn.tree import DecisionTreeClassifier\n",
    "\n",
    "model = DecisionTreeClassifier()\n",
    "# (Train your model here)\n",
    "\n",
    "with mlflow.start_run() as run:\n",
    "    run_id = run.info.run_id\n",
    "    # Log the model artifact under name 'best_model'\n",
    "    mlflow.sklearn.log_model(model, artifact_path=\"best_model\")\n",
    "    print(f\"Model logged in run {run_id}\")\n",
    "\n",
    "# Now register the model using the run_id from above\n",
    "model_uri = f\"runs:/{run_id}/best_model\"\n",
    "mlflow.register_model(model_uri, \"CreditRiskBestModel\")\n",
    "print(\"Model registered\")\n"
   ]
  },
  {
   "cell_type": "markdown",
   "id": "952282f1",
   "metadata": {},
   "source": [
    "# Save Best Model  "
   ]
  },
  {
   "cell_type": "code",
   "execution_count": 26,
   "id": "3ef823ad",
   "metadata": {},
   "outputs": [
    {
     "name": "stderr",
     "output_type": "stream",
     "text": [
      "INFO:__main__:Saving best model: DecisionTree\n",
      "INFO:__main__:Best model saved to ../api/model/best_model.pkl\n"
     ]
    }
   ],
   "source": [
    "import joblib\n",
    "\n",
    "logger.info(f'Saving best model: {best_model_name}')\n",
    "try:\n",
    "    joblib.dump(grid_searches[best_model_name].best_estimator_, '../api/model/best_model.pkl')\n",
    "    logger.info('Best model saved to ../api/model/best_model.pkl')\n",
    "except Exception as e:\n",
    "    logger.error(f'Error saving model: {str(e)}')\n",
    "    raise\n"
   ]
  },
  {
   "cell_type": "code",
   "execution_count": null,
   "id": "01b393f4",
   "metadata": {},
   "outputs": [],
   "source": []
  }
 ],
 "metadata": {
  "kernelspec": {
   "display_name": "frash",
   "language": "python",
   "name": "python3"
  },
  "language_info": {
   "codemirror_mode": {
    "name": "ipython",
    "version": 3
   },
   "file_extension": ".py",
   "mimetype": "text/x-python",
   "name": "python",
   "nbconvert_exporter": "python",
   "pygments_lexer": "ipython3",
   "version": "3.13.4"
  }
 },
 "nbformat": 4,
 "nbformat_minor": 5
}
